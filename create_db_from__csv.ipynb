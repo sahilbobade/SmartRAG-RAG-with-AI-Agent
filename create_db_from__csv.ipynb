{
 "cells": [
  {
   "cell_type": "code",
   "execution_count": null,
   "metadata": {},
   "outputs": [],
   "source": [
    "\n",
    "from langchain.embeddings import SentenceTransformerEmbeddings\n",
    "embeddings = SentenceTransformerEmbeddings(model_name=\"all-MiniLM-L6-v2\")\n",
    "# from langchain_openai import AzureOpenAIEmbeddings\n",
    "# embeddings = AzureOpenAIEmbeddings(\n",
    "#     azure_deployment=\"text-embedding-ada-002-V2\",\n",
    "#     openai_api_version= OPENAI_API_VERSION,\n",
    "# )\n",
    "from langchain.vectorstores import Chroma\n"
   ]
  },
  {
   "cell_type": "code",
   "execution_count": null,
   "metadata": {},
   "outputs": [],
   "source": [
    "\n",
    "\n",
    "\n",
    "# db = Chroma.from_documents(docs, embeddings)\n",
    "\n",
    "\n",
    "from langchain_community.document_loaders import CSVLoader\n",
    "# loader = UnstructuredExcelLoader(\"Book1.xlsx\")\n",
    "loader = CSVLoader(encoding='utf-8',file_path =r'data\\IMDB-Movie-Database.csv', csv_args = {\n",
    "    'delimiter': ',',\n",
    "    'fieldnames': ['Title', 'Release Date', 'Color/B&W', 'Genre', 'Language', 'Country', 'Rating', 'Lead Actor', 'Director Name', 'Lead Actor FB Likes', 'Cast FB Likes',\t'Director FB Likes',\t'Movie FB Likes',\t'IMDb Score (1-10)',\t'Total Reviews',\t'Duration (min)',\t'Gross Revenue',\t'Budget']\n",
    "})\n",
    "docs = loader.load()\n"
   ]
  },
  {
   "cell_type": "code",
   "execution_count": null,
   "metadata": {},
   "outputs": [],
   "source": [
    "\n",
    "from langchain.text_splitter import RecursiveCharacterTextSplitter\n",
    "\n",
    "def split_docs(documents,chunk_size=1000,chunk_overlap=20):\n",
    "  text_splitter = RecursiveCharacterTextSplitter(chunk_size=chunk_size, chunk_overlap=chunk_overlap)\n",
    "  docs = text_splitter.split_documents(documents)\n",
    "  return docs\n",
    "\n",
    "docs = split_docs(docs, chunk_size= 400, chunk_overlap=50)\n",
    "print(len(docs))\n"
   ]
  },
  {
   "cell_type": "code",
   "execution_count": null,
   "metadata": {},
   "outputs": [],
   "source": [
    "\n",
    "persist_directory = \"movie_csv_db\"\n",
    "\n",
    "vectordb = Chroma.from_documents(\n",
    "    documents=docs, embedding=embeddings, persist_directory=persist_directory\n",
    ")\n",
    "\n",
    "vectordb.persist()\n"
   ]
  },
  {
   "cell_type": "code",
   "execution_count": null,
   "metadata": {},
   "outputs": [],
   "source": [
    "\n",
    "result = vectordb.similarity_search(\"the dark knight\", k =4)\n",
    "result\n"
   ]
  },
  {
   "cell_type": "markdown",
   "metadata": {},
   "source": [
    "load existing vector databse"
   ]
  },
  {
   "cell_type": "code",
   "execution_count": null,
   "metadata": {},
   "outputs": [],
   "source": [
    "\n",
    "vectordb_path = \"clean_csv_db\"\n",
    "\n",
    "vectordb = Chroma(\n",
    "    persist_directory=vectordb_path, embedding_function=embeddings\n",
    ")\n",
    "\n"
   ]
  },
  {
   "cell_type": "code",
   "execution_count": null,
   "metadata": {},
   "outputs": [],
   "source": [
    "\n",
    "\n",
    "vectordb.similarity_search('a')"
   ]
  },
  {
   "cell_type": "code",
   "execution_count": null,
   "metadata": {},
   "outputs": [],
   "source": []
  }
 ],
 "metadata": {
  "kernelspec": {
   "display_name": "dev",
   "language": "python",
   "name": "python3"
  },
  "language_info": {
   "codemirror_mode": {
    "name": "ipython",
    "version": 3
   },
   "file_extension": ".py",
   "mimetype": "text/x-python",
   "name": "python",
   "nbconvert_exporter": "python",
   "pygments_lexer": "ipython3",
   "version": "3.12.4"
  }
 },
 "nbformat": 4,
 "nbformat_minor": 2
}
